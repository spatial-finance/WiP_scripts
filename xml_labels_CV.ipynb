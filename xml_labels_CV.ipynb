{
 "cells": [
  {
   "cell_type": "code",
   "execution_count": 3,
   "metadata": {},
   "outputs": [],
   "source": [
    "import numpy as np\n",
    "from pathlib import Path\n",
    "import xml.etree.cElementTree as ET\n",
    "from PIL import Image\n",
    "\n",
    "\n",
    "def create_labimg_xml(image_path, annotation_list):\n",
    "\n",
    "    image_path = Path(image_path)\n",
    "    img = np.array(Image.open(image_path).convert('RGB'))\n",
    "\n",
    "    annotation = ET.Element('annotation')\n",
    "    ET.SubElement(annotation, 'folder').text = str(image_path.parent.name)\n",
    "    ET.SubElement(annotation, 'filename').text = str(image_path.name)\n",
    "    ET.SubElement(annotation, 'path').text = str(image_path)\n",
    "\n",
    "    source = ET.SubElement(annotation, 'source')\n",
    "    ET.SubElement(source, 'database').text = 'Unknown'\n",
    "\n",
    "    size = ET.SubElement(annotation, 'size')\n",
    "    ET.SubElement(size, 'width').text = str (img.shape[1])\n",
    "    ET.SubElement(size, 'height').text = str(img.shape[0])\n",
    "    ET.SubElement(size, 'depth').text = str(img.shape[2])\n",
    "\n",
    "    ET.SubElement(annotation, 'segmented').text = '0'\n",
    "\n",
    "    for annot in annotation_list:\n",
    "        tmp_annot = annot.split(',')\n",
    "        cords, label = tmp_annot[0:-2], tmp_annot[-1]\n",
    "        xmin, ymin, xmax, ymax = cords[0], cords[1], cords[4], cords[5]\n",
    "\n",
    "        object = ET.SubElement(annotation, 'object')\n",
    "        ET.SubElement(object, 'name').text = label\n",
    "        ET.SubElement(object, 'pose').text = 'Unspecified'\n",
    "        ET.SubElement(object, 'truncated').text = '0'\n",
    "        ET.SubElement(object, 'difficult').text = '0'\n",
    "\n",
    "        bndbox = ET.SubElement(object, 'bndbox')\n",
    "        ET.SubElement(bndbox, 'xmin').text = str(xmin)\n",
    "        ET.SubElement(bndbox, 'ymin').text = str(ymin)\n",
    "        ET.SubElement(bndbox, 'xmax').text = str(xmax)\n",
    "        ET.SubElement(bndbox, 'ymax').text = str(ymax)\n",
    "\n",
    "    tree = ET.ElementTree(annotation)\n",
    "    xml_file_name = image_path.parent / (image_path.name.split('.')[0]+'.xml')\n",
    "    tree.write(xml_file_name)\n",
    "\n",
    "\n",
    "# --------------------------------------------------------------------------------\n",
    "# a quadrilateral bounding box(8 points) coordinate example\n",
    "anotation_list = ['291,473,385,481,383,504,289,496,Hello',\n",
    "                  '270,507,330,507,330,516,270,516,SUPERLATIVE']\n",
    "\n",
    "create_labimg_xml('/Users/natashalove/Downloads/25_25_data/MRCNN_25_25_pascal/images/000001293.tif', anotation_list)"
   ]
  },
  {
   "cell_type": "code",
   "execution_count": 8,
   "metadata": {},
   "outputs": [
    {
     "name": "stdout",
     "output_type": "stream",
     "text": [
      "[[237, 246, 256, 256]] 256 256\n"
     ]
    }
   ],
   "source": [
    "from xml.etree import ElementTree\n",
    " \n",
    "# function to extract bounding boxes from an annotation file\n",
    "def extract_boxes(filename):\n",
    "\t# load and parse the file\n",
    "\ttree = ElementTree.parse(filename)\n",
    "\t# get the root of the document\n",
    "\troot = tree.getroot()\n",
    "\t# extract each bounding box\n",
    "\tboxes = list()\n",
    "\tfor box in root.findall('.//bndbox'):\n",
    "\t\txmin = int(float(box.find('xmin').text))\n",
    "\t\tymin = int(float(box.find('ymin').text))\n",
    "\t\txmax = int(float(box.find('xmax').text))\n",
    "\t\tymax = int(float(box.find('ymax').text))\n",
    "\t\tcoors = [xmin, ymin, xmax, ymax]\n",
    "\t\tboxes.append(coors)\n",
    "\t# extract image dimensions\n",
    "\twidth = int(root.find('.//size/width').text)\n",
    "\theight = int(root.find('.//size/height').text)\n",
    "\treturn boxes, width, height\n",
    " \n",
    "# extract details form annotation file\n",
    "boxes, w, h = extract_boxes('/Users/natashalove/Dropbox/CV_training_resources/labels_all/labels/000049601.xml')\n",
    "# summarize extracted details\n",
    "print(boxes, w, h)"
   ]
  },
  {
   "cell_type": "code",
   "execution_count": 21,
   "metadata": {},
   "outputs": [],
   "source": [
    "from pathlib import Path\n",
    "import os\n",
    "import pandas as pd"
   ]
  },
  {
   "cell_type": "code",
   "execution_count": 22,
   "metadata": {},
   "outputs": [],
   "source": [
    "images_path = Path('/Users/natashalove/Dropbox/CV_training_resources/labels_all/images')\n",
    "anno_path = Path('/Users/natashalove/Dropbox/CV_training_resources/labels_all/labels')"
   ]
  },
  {
   "cell_type": "code",
   "execution_count": 23,
   "metadata": {},
   "outputs": [],
   "source": [
    "def filelist(root, file_type):\n",
    "    return [os.path.join(directory_path, f) for directory_path, directory_name,\n",
    "           files in os.walk(root) for f in files if f.endswith(file_type)]"
   ]
  },
  {
   "cell_type": "code",
   "execution_count": 24,
   "metadata": {},
   "outputs": [],
   "source": [
    "def generate_train_df (anno_path):\n",
    "    annotations = filelist(anno_path, '.xml')\n",
    "    anno_list = []\n",
    "    for anno_path in annotations:\n",
    "        root = ET.parse(anno_path).getroot()\n",
    "        anno = {}\n",
    "        anno['filename'] = Path(str(images_path) + '/' + root.find(\"./filename\").text)\n",
    "        anno['width'] = root.find(\"./size/width\").text\n",
    "        anno['height'] = root.find(\"./size/height\").text\n",
    "        anno['class'] = root.find(\"./object/name\").text\n",
    "        anno['xmin'] = int(float(root.find(\"./object/bndbox/xmin\").text))\n",
    "        anno['ymin'] = int(float(root.find(\"./object/bndbox/ymin\").text))\n",
    "        anno['xmax'] = int(float(root.find(\"./object/bndbox/xmax\").text))\n",
    "        anno['ymax'] = int(float(root.find(\"./object/bndbox/ymax\").text))\n",
    "        anno_list.append(anno)\n",
    "    return pd.DataFrame(anno_list)"
   ]
  },
  {
   "cell_type": "code",
   "execution_count": 25,
   "metadata": {},
   "outputs": [],
   "source": [
    "df_train = generate_train_df(anno_path)"
   ]
  },
  {
   "cell_type": "code",
   "execution_count": 26,
   "metadata": {},
   "outputs": [
    {
     "name": "stdout",
     "output_type": "stream",
     "text": [
      "(49604, 8)\n"
     ]
    },
    {
     "data": {
      "text/html": [
       "<div>\n",
       "<style scoped>\n",
       "    .dataframe tbody tr th:only-of-type {\n",
       "        vertical-align: middle;\n",
       "    }\n",
       "\n",
       "    .dataframe tbody tr th {\n",
       "        vertical-align: top;\n",
       "    }\n",
       "\n",
       "    .dataframe thead th {\n",
       "        text-align: right;\n",
       "    }\n",
       "</style>\n",
       "<table border=\"1\" class=\"dataframe\">\n",
       "  <thead>\n",
       "    <tr style=\"text-align: right;\">\n",
       "      <th></th>\n",
       "      <th>filename</th>\n",
       "      <th>width</th>\n",
       "      <th>height</th>\n",
       "      <th>class</th>\n",
       "      <th>xmin</th>\n",
       "      <th>ymin</th>\n",
       "      <th>xmax</th>\n",
       "      <th>ymax</th>\n",
       "    </tr>\n",
       "  </thead>\n",
       "  <tbody>\n",
       "    <tr>\n",
       "      <th>0</th>\n",
       "      <td>/Users/natashalove/Dropbox/CV_training_resourc...</td>\n",
       "      <td>256</td>\n",
       "      <td>256</td>\n",
       "      <td>1</td>\n",
       "      <td>0</td>\n",
       "      <td>238</td>\n",
       "      <td>16</td>\n",
       "      <td>256</td>\n",
       "    </tr>\n",
       "    <tr>\n",
       "      <th>1</th>\n",
       "      <td>/Users/natashalove/Dropbox/CV_training_resourc...</td>\n",
       "      <td>256</td>\n",
       "      <td>256</td>\n",
       "      <td>1</td>\n",
       "      <td>0</td>\n",
       "      <td>89</td>\n",
       "      <td>231</td>\n",
       "      <td>256</td>\n",
       "    </tr>\n",
       "    <tr>\n",
       "      <th>2</th>\n",
       "      <td>/Users/natashalove/Dropbox/CV_training_resourc...</td>\n",
       "      <td>256</td>\n",
       "      <td>256</td>\n",
       "      <td>2</td>\n",
       "      <td>143</td>\n",
       "      <td>77</td>\n",
       "      <td>256</td>\n",
       "      <td>256</td>\n",
       "    </tr>\n",
       "    <tr>\n",
       "      <th>3</th>\n",
       "      <td>/Users/natashalove/Dropbox/CV_training_resourc...</td>\n",
       "      <td>256</td>\n",
       "      <td>256</td>\n",
       "      <td>2</td>\n",
       "      <td>0</td>\n",
       "      <td>0</td>\n",
       "      <td>140</td>\n",
       "      <td>124</td>\n",
       "    </tr>\n",
       "    <tr>\n",
       "      <th>4</th>\n",
       "      <td>/Users/natashalove/Dropbox/CV_training_resourc...</td>\n",
       "      <td>256</td>\n",
       "      <td>256</td>\n",
       "      <td>1</td>\n",
       "      <td>0</td>\n",
       "      <td>29</td>\n",
       "      <td>148</td>\n",
       "      <td>256</td>\n",
       "    </tr>\n",
       "  </tbody>\n",
       "</table>\n",
       "</div>"
      ],
      "text/plain": [
       "                                            filename width height class  xmin  \\\n",
       "0  /Users/natashalove/Dropbox/CV_training_resourc...   256    256     1     0   \n",
       "1  /Users/natashalove/Dropbox/CV_training_resourc...   256    256     1     0   \n",
       "2  /Users/natashalove/Dropbox/CV_training_resourc...   256    256     2   143   \n",
       "3  /Users/natashalove/Dropbox/CV_training_resourc...   256    256     2     0   \n",
       "4  /Users/natashalove/Dropbox/CV_training_resourc...   256    256     1     0   \n",
       "\n",
       "   ymin  xmax  ymax  \n",
       "0   238    16   256  \n",
       "1    89   231   256  \n",
       "2    77   256   256  \n",
       "3     0   140   124  \n",
       "4    29   148   256  "
      ]
     },
     "execution_count": 26,
     "metadata": {},
     "output_type": "execute_result"
    }
   ],
   "source": [
    "print(df_train.shape)\n",
    "df_train.head()"
   ]
  },
  {
   "cell_type": "code",
   "execution_count": 28,
   "metadata": {},
   "outputs": [],
   "source": [
    "df_train.to_csv('df_train.csv', encoding='utf-8')"
   ]
  },
  {
   "cell_type": "code",
   "execution_count": 29,
   "metadata": {},
   "outputs": [],
   "source": [
    "df_train.to_csv('df_train_backup_no_utf.csv')"
   ]
  },
  {
   "cell_type": "code",
   "execution_count": null,
   "metadata": {},
   "outputs": [],
   "source": []
  }
 ],
 "metadata": {
  "kernelspec": {
   "display_name": "Python 3",
   "language": "python",
   "name": "python3"
  },
  "language_info": {
   "codemirror_mode": {
    "name": "ipython",
    "version": 3
   },
   "file_extension": ".py",
   "mimetype": "text/x-python",
   "name": "python",
   "nbconvert_exporter": "python",
   "pygments_lexer": "ipython3",
   "version": "3.7.3"
  }
 },
 "nbformat": 4,
 "nbformat_minor": 2
}
